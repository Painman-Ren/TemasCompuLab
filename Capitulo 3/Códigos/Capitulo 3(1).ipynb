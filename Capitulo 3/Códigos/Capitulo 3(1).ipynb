{
 "cells": [
  {
   "cell_type": "markdown",
   "metadata": {},
   "source": [
    "# Capitulo 3\n",
    "## Santiago Espinoza\n",
    "## René Delgado"
   ]
  },
  {
   "cell_type": "markdown",
   "metadata": {},
   "source": [
    "# 3.1"
   ]
  },
  {
   "cell_type": "markdown",
   "metadata": {},
   "source": [
    "Para la Tabla 3.4 La hipótesis nulea para cada predictor, ya sea TV, radio o periodico, dice que la cantidad de dinero invertida en estas no tiene efecto sobre el número de ventas. Los p-valores pequeños indican que la hipotesis nula se puede descartar en el caso de TV y radio. Como el p-valor de periodico es grande, se puede tomar su hipotesis nula como cierta."
   ]
  },
  {
   "cell_type": "markdown",
   "metadata": {},
   "source": [
    "# 3.3"
   ]
  },
  {
   "cell_type": "markdown",
   "metadata": {},
   "source": [
    "Y = 50 + 20(GPA) + 0.07(IQ) + 35(Gender) + 0.01(GPA & IQ) - 10(GPA & Gender)  \n",
    "\n",
    "tenemos:\n",
    "male - gender = 0\n",
    "Y = 50 + 20(GPA) + 0.07(IQ) + 0.01(GPA & IQ)  \n",
    "female - gender = 0\n",
    "Y = 50 + 20(GPA) + 0.07(IQ) + 35(Gender) + 0.01(GPA & IQ) - 10(GPA & Gender)  \n",
    "\n",
    "a)\n",
    "\n",
    "Si se tienen valores fijos de IQ y GPA, los hombres ganan mas que las mujeres dado un GPA lo suficientemente alto.\n",
    "\n",
    "b)\n",
    "\n",
    "Si IQ = 110 y GPA = 4.0\n",
    "\n",
    "Y = 50 + 20(4.0) + 0.07(110) + 35(1) + 0.01(4 * 110) - 10(1 * 4.0) \n",
    "Y = 137.1\n",
    "\n",
    "c)\n",
    "\n",
    "Falso, se debe tomar en cuenta el tamaño del p-valor del predicot par ver si este tiene algun efecto, o no, sobre la salida\n"
   ]
  },
  {
   "cell_type": "markdown",
   "metadata": {},
   "source": [
    "# 3.5"
   ]
  },
  {
   "cell_type": "markdown",
   "metadata": {},
   "source": [
    "\n",
    "$$\\hat y_i^´ = x_i \\hat B$$\n",
    "\n",
    "$$\\hat B = \\frac{\\sum x_i y_i}{\\sum x_k 2}$$\n",
    "\n",
    "Sustituimos $\\hat B$ en $\\hat y_i$\n",
    "$$\n",
    "\\hat y_i = x_i\\frac{\\sum {x_i}^´ {y_i}^´}{\\sum x_k^2} = \\sum({\\frac{{x_i}^´ x_i}{\\sum x_k^2}}){y_i}^´\n",
    "$$\n",
    "tomamos:\n",
    "$$ a_i^´ = \\frac{{x_i}^´ x_i}{\\sum x_k^2}$$ y obtenemos:\n",
    "$$ \\hat y_i = \\sum a_i^´ y_i^´$$\n"
   ]
  },
  {
   "cell_type": "markdown",
   "metadata": {},
   "source": [
    "# 3.7"
   ]
  },
  {
   "cell_type": "markdown",
   "metadata": {},
   "source": [
    "Probar que: $$ R^2 = corr^2(x,y)$$\n",
    "Tenemos que\n",
    "$$ R^2 = \\frac{TSS - RSS}{TSS}$$\n",
    "donde\n",
    "$$TSS = \\sum (y_i - \\bar y)^2$$\n",
    "$$RSS = \\sum (y_i - \\hat y_i)^2$$\n",
    "$$corr(x,y) = \\frac{\\sum(x_i - \\bar x)(y_i - \\bar y)}{\\sigma_x \\sigma_y}$$\n",
    "$$\\sigma_x^2 = \\sum (x_i - \\bar x)$$ \n",
    "$$\\sigma_y^2 = \\sum (y_i - \\bar y)$$"
   ]
  },
  {
   "cell_type": "markdown",
   "metadata": {},
   "source": [
    "Reemplazamos RSS y TSS en $R^2$\n",
    "$$\n",
    "R^2 = \\frac{\\sum (y_i - \\bar{y})^2 - \\sum (y_i - \\hat{y}_i)^2}{\\sum (y_i - \\bar{y})^2} = \\frac{\\sum (\\hat{y}_i - \\bar{y})(2y_i - \\bar{y} - \\hat{y}_i)}{\\sum (y_i - \\bar{y})^2}\n",
    "$$\n",
    "\n",
    "Recordamos que:\n",
    "$$\n",
    "\\begin{align}\n",
    "  \\hat{\\beta}_0 &= \\bar{y} - \\hat{\\beta}_1 \\bar{x} \\label{beta0} \\\\\n",
    "  \\hat{\\beta}_1 &= \\frac{\\sum (x_i - \\bar{x})(y_i - \\bar{y})}\n",
    "                        {\\sum (x_j - \\bar{x})^2}\n",
    "\\end{align}\n",
    "$$\n",
    "\n",
    "Subsittuimos $\\hat \\beta_0$ en $\\hat y_i$\n",
    "$$\n",
    "\\begin{align}\n",
    "  \\hat{y}_i &= \\hat{\\beta}_0 + \\hat{\\beta}_1 x_i \\\\\n",
    "            &= \\bar{y} - \\hat{\\beta}_1 \\bar{x} + \\hat{\\beta}_1 x_i \\\\\n",
    "            &= \\bar{y} + \\hat{\\beta}_1 (x_i - \\bar{x})\n",
    "\\end{align}\n",
    "$$"
   ]
  },
  {
   "cell_type": "markdown",
   "metadata": {},
   "source": [
    "Se toman las expresiones $\\hat{y}_i - \\bar{y}$ y $2y_i - \\bar{y} - \\hat{y}_i$ del numerador de $R^2$ y se hace un subsitucion de acuerdo a las expresiones anteriores\n",
    "$$\n",
    "\\begin{align}\n",
    "         \\hat{y}_i - \\bar{y} &= \\hat{\\beta}_1 (x_i - \\bar{x}) \\\\\n",
    "  2y_i - \\bar{y} - \\hat{y}_i &= 2y_i - \\bar{y} - \\bar{y} -\n",
    "                                \\hat{\\beta}_1 (x_i - \\bar{x}) \\\\\n",
    "                             &= 2(y_i - \\bar{y}) - \n",
    "                                \\hat{\\beta}_1 (x_i - \\bar{x}) \n",
    "\\end{align}\n",
    "$$\n",
    "Se substituyen estas expresiones en el numerador de $R^2$\n",
    "$$\n",
    "\\begin{align}\n",
    "   &= \\sum \\hat{\\beta}_1 (x_i - \\hat{x})\n",
    "            \\left[ 2(y_i - \\bar{y}) - \\hat{\\beta}_1 (x_i - \\bar{x}) \\right] \\\\\n",
    "    &= \\hat{\\beta}_1 \\sum (x_i - \\bar{x})\n",
    "                          \\left[ 2(y_i - \\bar{y}) -\n",
    "                                 \\hat{\\beta}_1 (x_i - \\bar{x}) \\right] \\\\\n",
    "    &= \\hat{\\beta}_1\n",
    "       \\left[ 2 \\sum (x_i - \\bar{x})(y_i - \\bar{y}) -\n",
    "              \\hat{\\beta}_1 \\sum (x_i - \\bar{x})^2 \\label{A4} \\right]\n",
    "\\end{align}\n",
    "$$\n",
    "\n",
    "Usando la ecuacion para $\\hat \\beta_1$ se simplifica la expresion anterior y se obtiene\n",
    "$$\n",
    "\\begin{align}\n",
    "  A &= \\hat{\\beta}_1 \\sum (x_i - \\bar{x}) (y_i - \\bar{y}) \\\\\n",
    "    &= \\frac{\\left[ \\sum (x_i - \\bar{x}) (y_i - \\bar{y}) \\right]^2}\n",
    "            {\\sum (x_j - \\bar{x})^2}\n",
    "\\end{align}\n",
    "$$\n",
    "\n",
    "Se reemplaza esto en el numerador de $R^2$ y se obtiene finalmente\n",
    "$$\n",
    "R^2 = \\frac{\\left[ \\sum (x_i - \\bar{x}) (y_i - \\bar{y}) \\right]^2}{\\sum (x_j - \\bar{x})^2 \\sum (y_k - \\bar{y})^2} = R^2 = corr^2(x, y) \n",
    "$$\n"
   ]
  },
  {
   "cell_type": "markdown",
   "metadata": {},
   "source": [
    "# 3.9\n",
    "a)"
   ]
  },
  {
   "cell_type": "code",
   "execution_count": 1,
   "metadata": {},
   "outputs": [
    {
     "data": {
      "image/png": "[encoded data removed]",
      "text/plain": [
       "plot without title"
      ]
     },
     "metadata": {
      "image/png": {
       "height": 420,
       "width": 420
      },
      "text/plain": {
       "height": 420,
       "width": 420
      }
     },
     "output_type": "display_data"
    }
   ],
   "source": [
    "library(ISLR)\n",
    "attach(Auto)\n",
    "pairs(Auto)"
   ]
  },
  {
   "cell_type": "markdown",
   "metadata": {},
   "source": [
    "b)"
   ]
  },
  {
   "cell_type": "code",
   "execution_count": 2,
   "metadata": {},
   "outputs": [
    {
     "data": {
      "text/html": [
       "<table>\n",
       "<caption>A matrix: 8 × 8 of type dbl</caption>\n",
       "<thead>\n",
       "\t<tr><th></th><th scope=col>mpg</th><th scope=col>cylinders</th><th scope=col>displacement</th><th scope=col>horsepower</th><th scope=col>weight</th><th scope=col>acceleration</th><th scope=col>year</th><th scope=col>origin</th></tr>\n",
       "</thead>\n",
       "<tbody>\n",
       "\t<tr><th scope=row>mpg</th><td> 1.0000000</td><td>-0.7776175</td><td>-0.8051269</td><td>-0.7784268</td><td>-0.8322442</td><td> 0.4233285</td><td> 0.5805410</td><td> 0.5652088</td></tr>\n",
       "\t<tr><th scope=row>cylinders</th><td>-0.7776175</td><td> 1.0000000</td><td> 0.9508233</td><td> 0.8429834</td><td> 0.8975273</td><td>-0.5046834</td><td>-0.3456474</td><td>-0.5689316</td></tr>\n",
       "\t<tr><th scope=row>displacement</th><td>-0.8051269</td><td> 0.9508233</td><td> 1.0000000</td><td> 0.8972570</td><td> 0.9329944</td><td>-0.5438005</td><td>-0.3698552</td><td>-0.6145351</td></tr>\n",
       "\t<tr><th scope=row>horsepower</th><td>-0.7784268</td><td> 0.8429834</td><td> 0.8972570</td><td> 1.0000000</td><td> 0.8645377</td><td>-0.6891955</td><td>-0.4163615</td><td>-0.4551715</td></tr>\n",
       "\t<tr><th scope=row>weight</th><td>-0.8322442</td><td> 0.8975273</td><td> 0.9329944</td><td> 0.8645377</td><td> 1.0000000</td><td>-0.4168392</td><td>-0.3091199</td><td>-0.5850054</td></tr>\n",
       "\t<tr><th scope=row>acceleration</th><td> 0.4233285</td><td>-0.5046834</td><td>-0.5438005</td><td>-0.6891955</td><td>-0.4168392</td><td> 1.0000000</td><td> 0.2903161</td><td> 0.2127458</td></tr>\n",
       "\t<tr><th scope=row>year</th><td> 0.5805410</td><td>-0.3456474</td><td>-0.3698552</td><td>-0.4163615</td><td>-0.3091199</td><td> 0.2903161</td><td> 1.0000000</td><td> 0.1815277</td></tr>\n",
       "\t<tr><th scope=row>origin</th><td> 0.5652088</td><td>-0.5689316</td><td>-0.6145351</td><td>-0.4551715</td><td>-0.5850054</td><td> 0.2127458</td><td> 0.1815277</td><td> 1.0000000</td></tr>\n",
       "</tbody>\n",
       "</table>\n"
      ],
      "text/latex": [
       "A matrix: 8 × 8 of type dbl\n",
       "\\begin{tabular}{r|llllllll}\n",
       "  & mpg & cylinders & displacement & horsepower & weight & acceleration & year & origin\\\\\n",
       "\\hline\n",
       "\tmpg &  1.0000000 & -0.7776175 & -0.8051269 & -0.7784268 & -0.8322442 &  0.4233285 &  0.5805410 &  0.5652088\\\\\n",
       "\tcylinders & -0.7776175 &  1.0000000 &  0.9508233 &  0.8429834 &  0.8975273 & -0.5046834 & -0.3456474 & -0.5689316\\\\\n",
       "\tdisplacement & -0.8051269 &  0.9508233 &  1.0000000 &  0.8972570 &  0.9329944 & -0.5438005 & -0.3698552 & -0.6145351\\\\\n",
       "\thorsepower & -0.7784268 &  0.8429834 &  0.8972570 &  1.0000000 &  0.8645377 & -0.6891955 & -0.4163615 & -0.4551715\\\\\n",
       "\tweight & -0.8322442 &  0.8975273 &  0.9329944 &  0.8645377 &  1.0000000 & -0.4168392 & -0.3091199 & -0.5850054\\\\\n",
       "\tacceleration &  0.4233285 & -0.5046834 & -0.5438005 & -0.6891955 & -0.4168392 &  1.0000000 &  0.2903161 &  0.2127458\\\\\n",
       "\tyear &  0.5805410 & -0.3456474 & -0.3698552 & -0.4163615 & -0.3091199 &  0.2903161 &  1.0000000 &  0.1815277\\\\\n",
       "\torigin &  0.5652088 & -0.5689316 & -0.6145351 & -0.4551715 & -0.5850054 &  0.2127458 &  0.1815277 &  1.0000000\\\\\n",
       "\\end{tabular}\n"
      ],
      "text/markdown": [
       "\n",
       "A matrix: 8 × 8 of type dbl\n",
       "\n",
       "| <!--/--> | mpg | cylinders | displacement | horsepower | weight | acceleration | year | origin |\n",
       "|---|---|---|---|---|---|---|---|---|\n",
       "| mpg |  1.0000000 | -0.7776175 | -0.8051269 | -0.7784268 | -0.8322442 |  0.4233285 |  0.5805410 |  0.5652088 |\n",
       "| cylinders | -0.7776175 |  1.0000000 |  0.9508233 |  0.8429834 |  0.8975273 | -0.5046834 | -0.3456474 | -0.5689316 |\n",
       "| displacement | -0.8051269 |  0.9508233 |  1.0000000 |  0.8972570 |  0.9329944 | -0.5438005 | -0.3698552 | -0.6145351 |\n",
       "| horsepower | -0.7784268 |  0.8429834 |  0.8972570 |  1.0000000 |  0.8645377 | -0.6891955 | -0.4163615 | -0.4551715 |\n",
       "| weight | -0.8322442 |  0.8975273 |  0.9329944 |  0.8645377 |  1.0000000 | -0.4168392 | -0.3091199 | -0.5850054 |\n",
       "| acceleration |  0.4233285 | -0.5046834 | -0.5438005 | -0.6891955 | -0.4168392 |  1.0000000 |  0.2903161 |  0.2127458 |\n",
       "| year |  0.5805410 | -0.3456474 | -0.3698552 | -0.4163615 | -0.3091199 |  0.2903161 |  1.0000000 |  0.1815277 |\n",
       "| origin |  0.5652088 | -0.5689316 | -0.6145351 | -0.4551715 | -0.5850054 |  0.2127458 |  0.1815277 |  1.0000000 |\n",
       "\n"
      ],
      "text/plain": [
       "             mpg        cylinders  displacement horsepower weight    \n",
       "mpg           1.0000000 -0.7776175 -0.8051269   -0.7784268 -0.8322442\n",
       "cylinders    -0.7776175  1.0000000  0.9508233    0.8429834  0.8975273\n",
       "displacement -0.8051269  0.9508233  1.0000000    0.8972570  0.9329944\n",
       "horsepower   -0.7784268  0.8429834  0.8972570    1.0000000  0.8645377\n",
       "weight       -0.8322442  0.8975273  0.9329944    0.8645377  1.0000000\n",
       "acceleration  0.4233285 -0.5046834 -0.5438005   -0.6891955 -0.4168392\n",
       "year          0.5805410 -0.3456474 -0.3698552   -0.4163615 -0.3091199\n",
       "origin        0.5652088 -0.5689316 -0.6145351   -0.4551715 -0.5850054\n",
       "             acceleration year       origin    \n",
       "mpg           0.4233285    0.5805410  0.5652088\n",
       "cylinders    -0.5046834   -0.3456474 -0.5689316\n",
       "displacement -0.5438005   -0.3698552 -0.6145351\n",
       "horsepower   -0.6891955   -0.4163615 -0.4551715\n",
       "weight       -0.4168392   -0.3091199 -0.5850054\n",
       "acceleration  1.0000000    0.2903161  0.2127458\n",
       "year          0.2903161    1.0000000  0.1815277\n",
       "origin        0.2127458    0.1815277  1.0000000"
      ]
     },
     "metadata": {},
     "output_type": "display_data"
    }
   ],
   "source": [
    "cor(subset(Auto, select=-name))"
   ]
  },
  {
   "cell_type": "markdown",
   "metadata": {},
   "source": [
    "c)"
   ]
  },
  {
   "cell_type": "code",
   "execution_count": 3,
   "metadata": {},
   "outputs": [
    {
     "data": {
      "text/plain": [
       "\n",
       "Call:\n",
       "lm(formula = mpg ~ . - name, data = Auto)\n",
       "\n",
       "Residuals:\n",
       "    Min      1Q  Median      3Q     Max \n",
       "-9.5903 -2.1565 -0.1169  1.8690 13.0604 \n",
       "\n",
       "Coefficients:\n",
       "               Estimate Std. Error t value Pr(>|t|)    \n",
       "(Intercept)  -17.218435   4.644294  -3.707  0.00024 ***\n",
       "cylinders     -0.493376   0.323282  -1.526  0.12780    \n",
       "displacement   0.019896   0.007515   2.647  0.00844 ** \n",
       "horsepower    -0.016951   0.013787  -1.230  0.21963    \n",
       "weight        -0.006474   0.000652  -9.929  < 2e-16 ***\n",
       "acceleration   0.080576   0.098845   0.815  0.41548    \n",
       "year           0.750773   0.050973  14.729  < 2e-16 ***\n",
       "origin         1.426141   0.278136   5.127 4.67e-07 ***\n",
       "---\n",
       "Signif. codes:  0 '***' 0.001 '**' 0.01 '*' 0.05 '.' 0.1 ' ' 1\n",
       "\n",
       "Residual standard error: 3.328 on 384 degrees of freedom\n",
       "Multiple R-squared:  0.8215,\tAdjusted R-squared:  0.8182 \n",
       "F-statistic: 252.4 on 7 and 384 DF,  p-value: < 2.2e-16\n"
      ]
     },
     "metadata": {},
     "output_type": "display_data"
    }
   ],
   "source": [
    "lm.fit1 = lm(mpg~.-name, data=Auto)\n",
    "summary(lm.fit1)"
   ]
  },
  {
   "cell_type": "markdown",
   "metadata": {},
   "source": [
    "i. Si existe relacion entre los predictores y la respuesta. Si se observan los p-valores de algunos predictores, como weight,year, origin, se puede obervar que son muy pequeños y por tanto se puede negar la hipotesis nula. Tambien se tiene un valor de la estadística-F lejano de 1.\n",
    "\n",
    "ii. Los predictores maás significativos son weight, year y origin.\n",
    "\n",
    "iii. El coeficiente del predictor year nos dice que conforme pasan los años incrementa la eficiencia de los automoviles.\n",
    "\n",
    "d)"
   ]
  },
  {
   "cell_type": "code",
   "execution_count": 4,
   "metadata": {},
   "outputs": [
    {
     "data": {
      "image/png": "[encoded data removed]",
      "text/plain": [
       "Plot with title \"\""
      ]
     },
     "metadata": {
      "image/png": {
       "height": 420,
       "width": 420
      },
      "text/plain": {
       "height": 420,
       "width": 420
      }
     },
     "output_type": "display_data"
    },
    {
     "data": {
      "image/png": "[encoded data removed]",
      "text/plain": [
       "plot without title"
      ]
     },
     "metadata": {
      "image/png": {
       "height": 420,
       "width": 420
      },
      "text/plain": {
       "height": 420,
       "width": 420
      }
     },
     "output_type": "display_data"
    }
   ],
   "source": [
    "par(mfrow=c(2,2))\n",
    "plot(lm.fit1)\n",
    "plot(predict(lm.fit1), rstudent(lm.fit1))"
   ]
  },
  {
   "cell_type": "markdown",
   "metadata": {},
   "source": [
    "Se observa una curvatura en el fit. En el plit de leverage, el punto 14 tiene un nivel alto de leverage. En el plot de student se observan datos arriba de 3, los cuales pueden ser valores atípicos.\n",
    "\n",
    "e)"
   ]
  },
  {
   "cell_type": "code",
   "execution_count": 5,
   "metadata": {},
   "outputs": [
    {
     "data": {
      "text/plain": [
       "\n",
       "Call:\n",
       "lm(formula = mpg ~ cylinders * displacement + displacement * \n",
       "    weight)\n",
       "\n",
       "Residuals:\n",
       "     Min       1Q   Median       3Q      Max \n",
       "-13.2934  -2.5184  -0.3476   1.8399  17.7723 \n",
       "\n",
       "Coefficients:\n",
       "                         Estimate Std. Error t value Pr(>|t|)    \n",
       "(Intercept)             5.262e+01  2.237e+00  23.519  < 2e-16 ***\n",
       "cylinders               7.606e-01  7.669e-01   0.992    0.322    \n",
       "displacement           -7.351e-02  1.669e-02  -4.403 1.38e-05 ***\n",
       "weight                 -9.888e-03  1.329e-03  -7.438 6.69e-13 ***\n",
       "cylinders:displacement -2.986e-03  3.426e-03  -0.872    0.384    \n",
       "displacement:weight     2.128e-05  5.002e-06   4.254 2.64e-05 ***\n",
       "---\n",
       "Signif. codes:  0 '***' 0.001 '**' 0.01 '*' 0.05 '.' 0.1 ' ' 1\n",
       "\n",
       "Residual standard error: 4.103 on 386 degrees of freedom\n",
       "Multiple R-squared:  0.7272,\tAdjusted R-squared:  0.7237 \n",
       "F-statistic: 205.8 on 5 and 386 DF,  p-value: < 2.2e-16\n"
      ]
     },
     "metadata": {},
     "output_type": "display_data"
    }
   ],
   "source": [
    "lm.fit2 = lm(mpg~cylinders*displacement+displacement*weight)\n",
    "summary(lm.fit2)"
   ]
  },
  {
   "cell_type": "markdown",
   "metadata": {},
   "source": [
    "Se tomaron los pares con mayor correlacion, de acuerdo a la matriz de correlaciones. Se puede observar que los valores-p de la interacción entre desplazamiento y peso son pequeños, lo cual indica que sí es significativa. Para cylinders y displacement, el p-valor es grande, por tanto su interacción no es significativa.\n",
    "\n",
    "f)"
   ]
  },
  {
   "cell_type": "code",
   "execution_count": 7,
   "metadata": {},
   "outputs": [
    {
     "data": {
      "text/plain": [
       "\n",
       "Call:\n",
       "lm(formula = mpg ~ log(weight) + sqrt(horsepower) + acceleration + \n",
       "    I(acceleration^2))\n",
       "\n",
       "Residuals:\n",
       "     Min       1Q   Median       3Q      Max \n",
       "-11.2932  -2.5082  -0.2237   2.0237  15.7650 \n",
       "\n",
       "Coefficients:\n",
       "                   Estimate Std. Error t value Pr(>|t|)    \n",
       "(Intercept)       178.30303   10.80451  16.503  < 2e-16 ***\n",
       "log(weight)       -14.74259    1.73994  -8.473 5.06e-16 ***\n",
       "sqrt(horsepower)   -1.85192    0.36005  -5.144 4.29e-07 ***\n",
       "acceleration       -2.19890    0.63903  -3.441 0.000643 ***\n",
       "I(acceleration^2)   0.06139    0.01857   3.305 0.001037 ** \n",
       "---\n",
       "Signif. codes:  0 '***' 0.001 '**' 0.01 '*' 0.05 '.' 0.1 ' ' 1\n",
       "\n",
       "Residual standard error: 3.99 on 387 degrees of freedom\n",
       "Multiple R-squared:  0.7414,\tAdjusted R-squared:  0.7387 \n",
       "F-statistic: 277.3 on 4 and 387 DF,  p-value: < 2.2e-16\n"
      ]
     },
     "metadata": {},
     "output_type": "display_data"
    },
    {
     "data": {
      "image/png": "[encoded data removed]",
      "text/plain": [
       "Plot with title \"\""
      ]
     },
     "metadata": {
      "image/png": {
       "height": 420,
       "width": 420
      },
      "text/plain": {
       "height": 420,
       "width": 420
      }
     },
     "output_type": "display_data"
    },
    {
     "data": {
      "image/png": "[encoded data removed]",
      "text/plain": [
       "plot without title"
      ]
     },
     "metadata": {
      "image/png": {
       "height": 420,
       "width": 420
      },
      "text/plain": {
       "height": 420,
       "width": 420
      }
     },
     "output_type": "display_data"
    }
   ],
   "source": [
    "#sqrt\n",
    "lm.fit3 = lm(mpg~log(weight)+sqrt(horsepower)+acceleration+I(acceleration^2))\n",
    "summary(lm.fit3)\n",
    "par(mfrow=c(2,2))\n",
    "plot(lm.fit3)\n",
    "plot(predict(lm.fit3), rstudent(lm.fit3))"
   ]
  },
  {
   "cell_type": "code",
   "execution_count": 8,
   "metadata": {},
   "outputs": [
    {
     "data": {
      "text/plain": [
       "\n",
       "Call:\n",
       "lm(formula = log(mpg) ~ cylinders + displacement + horsepower + \n",
       "    weight + acceleration + year + origin, data = Auto)\n",
       "\n",
       "Residuals:\n",
       "     Min       1Q   Median       3Q      Max \n",
       "-0.40955 -0.06533  0.00079  0.06785  0.33925 \n",
       "\n",
       "Coefficients:\n",
       "               Estimate Std. Error t value Pr(>|t|)    \n",
       "(Intercept)   1.751e+00  1.662e-01  10.533  < 2e-16 ***\n",
       "cylinders    -2.795e-02  1.157e-02  -2.415  0.01619 *  \n",
       "displacement  6.362e-04  2.690e-04   2.365  0.01852 *  \n",
       "horsepower   -1.475e-03  4.935e-04  -2.989  0.00298 ** \n",
       "weight       -2.551e-04  2.334e-05 -10.931  < 2e-16 ***\n",
       "acceleration -1.348e-03  3.538e-03  -0.381  0.70339    \n",
       "year          2.958e-02  1.824e-03  16.211  < 2e-16 ***\n",
       "origin        4.071e-02  9.955e-03   4.089 5.28e-05 ***\n",
       "---\n",
       "Signif. codes:  0 '***' 0.001 '**' 0.01 '*' 0.05 '.' 0.1 ' ' 1\n",
       "\n",
       "Residual standard error: 0.1191 on 384 degrees of freedom\n",
       "Multiple R-squared:  0.8795,\tAdjusted R-squared:  0.8773 \n",
       "F-statistic: 400.4 on 7 and 384 DF,  p-value: < 2.2e-16\n"
      ]
     },
     "metadata": {},
     "output_type": "display_data"
    },
    {
     "data": {
      "image/png": "[encoded data removed]",
      "text/plain": [
       "Plot with title \"\""
      ]
     },
     "metadata": {
      "image/png": {
       "height": 420,
       "width": 420
      },
      "text/plain": {
       "height": 420,
       "width": 420
      }
     },
     "output_type": "display_data"
    },
    {
     "data": {
      "image/png": "[encoded data removed]",
      "text/plain": [
       "plot without title"
      ]
     },
     "metadata": {
      "image/png": {
       "height": 420,
       "width": 420
      },
      "text/plain": {
       "height": 420,
       "width": 420
      }
     },
     "output_type": "display_data"
    }
   ],
   "source": [
    "#log\n",
    "lm.fit4<-lm(log(mpg)~cylinders+displacement+horsepower+weight+acceleration+year+origin,data=Auto)\n",
    "summary(lm.fit4)\n",
    "par(mfrow=c(2,2)) \n",
    "plot(lm.fit4)\n",
    "plot(predict(lm.fit4),rstudent(lm.fit4))"
   ]
  },
  {
   "cell_type": "markdown",
   "metadata": {},
   "source": [
    "# 3.11\n",
    "a)"
   ]
  },
  {
   "cell_type": "code",
   "execution_count": 82,
   "metadata": {},
   "outputs": [
    {
     "data": {
      "text/plain": [
       "\n",
       "Call:\n",
       "lm(formula = y ~ x + 0)\n",
       "\n",
       "Residuals:\n",
       "    Min      1Q  Median      3Q     Max \n",
       "-1.9154 -0.6472 -0.1771  0.5056  2.3109 \n",
       "\n",
       "Coefficients:\n",
       "  Estimate Std. Error t value Pr(>|t|)    \n",
       "x   1.9939     0.1065   18.73   <2e-16 ***\n",
       "---\n",
       "Signif. codes:  0 '***' 0.001 '**' 0.01 '*' 0.05 '.' 0.1 ' ' 1\n",
       "\n",
       "Residual standard error: 0.9586 on 99 degrees of freedom\n",
       "Multiple R-squared:  0.7798,\tAdjusted R-squared:  0.7776 \n",
       "F-statistic: 350.7 on 1 and 99 DF,  p-value: < 2.2e-16\n"
      ]
     },
     "metadata": {},
     "output_type": "display_data"
    }
   ],
   "source": [
    "set.seed(1)\n",
    "x = rnorm(100)\n",
    "y = 2*x + rnorm(100)\n",
    "\n",
    "lm.fit = lm(y~x+0)\n",
    "summary(lm.fit)"
   ]
  },
  {
   "cell_type": "markdown",
   "metadata": {},
   "source": [
    "El p-valor es pequeño y la estadistica F es lejana de 1, por tanto se puede negar la hipótesis núla.\n",
    "\n",
    "b)"
   ]
  },
  {
   "cell_type": "code",
   "execution_count": 84,
   "metadata": {},
   "outputs": [
    {
     "data": {
      "text/plain": [
       "\n",
       "Call:\n",
       "lm(formula = x ~ y + 0)\n",
       "\n",
       "Residuals:\n",
       "    Min      1Q  Median      3Q     Max \n",
       "-0.8699 -0.2368  0.1030  0.2858  0.8938 \n",
       "\n",
       "Coefficients:\n",
       "  Estimate Std. Error t value Pr(>|t|)    \n",
       "y  0.39111    0.02089   18.73   <2e-16 ***\n",
       "---\n",
       "Signif. codes:  0 '***' 0.001 '**' 0.01 '*' 0.05 '.' 0.1 ' ' 1\n",
       "\n",
       "Residual standard error: 0.4246 on 99 degrees of freedom\n",
       "Multiple R-squared:  0.7798,\tAdjusted R-squared:  0.7776 \n",
       "F-statistic: 350.7 on 1 and 99 DF,  p-value: < 2.2e-16\n"
      ]
     },
     "metadata": {},
     "output_type": "display_data"
    }
   ],
   "source": [
    "lm.fit1 = lm(x~y+0)\n",
    "summary(lm.fit1)"
   ]
  },
  {
   "cell_type": "markdown",
   "metadata": {},
   "source": [
    "Para el caso en que no se toma en cuenta el intercepto igual se puede descartar la hipótesis núla.\n",
    "\n",
    "c)\n",
    "\n",
    "$y = 2x + \\epsilon$ se puede reescribir como $x = 0.5(y-\\epsilon)$\n",
    "Son la misma linea."
   ]
  },
  {
   "cell_type": "markdown",
   "metadata": {},
   "source": [
    "d)\n",
    "tenemos\n",
    "$\\frac{\\beta}{SE(\\beta)}$  $\\beta = \\frac{\\sum x_i y_i}{\\sum x_i ^2}$  $SE(\\beta) = \\sqrt{\\frac{(y_i - x_i \\beta)^2}{(n-1)\\sum x_i^2}}$\n",
    "Reemplazando los valores de $\\beta$ y $SE(\\beta)$ en $t$ obtenemos\n",
    "$$t= \\frac{\\sum x_i y_i}{\\sum x_i ^2} \\sqrt{\\frac{(y_i - x_i \\beta)^2}{(n-1)\\sum x_i^2}}$$"
   ]
  },
  {
   "cell_type": "markdown",
   "metadata": {},
   "source": [
    "Simplificando\n",
    "$$\\frac{\\sqrt{n-1}\\sum x_i y_i}{\\sqrt{\\sum x_i^2 \\sum (y_i - x_i \\beta)^2}}$$\n",
    "$$\\frac {\\sqrt{n-1} \\sum{x_i y_i}}\n",
    "      {\\sqrt{\\sum{x_i^2} \\sum{(y_i^2 - 2 \\beta x_i y_i  + x_i^2 \\beta^2)}}}$$\n",
    "$$\\frac {\\sqrt{n-1} \\sum{x_i y_i}}\n",
    "      {\\sqrt{\\sum{x_i^2} \\sum{y_i^2} - \n",
    "            \\sum{x_i^2} \\beta (2 \\sum{x_i y_i} - \\beta \\sum{x_i^2})}}$$\n",
    "$$\\frac {\\sqrt{n-1} \\sum{x_i y_i}}\n",
    "      {\\sqrt{\\sum{x_i^2} \\sum{y_i^2} - \n",
    "            \\sum{x_i y_i} (2 \\sum{x_i y_i} - \\sum{x_i y_i})}}$$\n",
    "y se obtiene\n",
    "$$t = \\frac {\\sqrt{n-1} \\sum{x_i y_i}} \n",
    "          {\\sqrt{\\sum{x_i^2} \\sum{y_i^2} - (\\sum{x_i y_i})^2 }}$$\n",
    "\n",
    "comprobando con el ejemplo anterior se obtiene"
   ]
  },
  {
   "cell_type": "code",
   "execution_count": 78,
   "metadata": {},
   "outputs": [
    {
     "data": {
      "text/html": [
       "18.7259319374486"
      ],
      "text/latex": [
       "18.7259319374486"
      ],
      "text/markdown": [
       "18.7259319374486"
      ],
      "text/plain": [
       "[1] 18.72593"
      ]
     },
     "metadata": {},
     "output_type": "display_data"
    }
   ],
   "source": [
    "(sqrt(length(x)-1) * sum(x*y)) / (sqrt(sum(x*x) * sum(y*y) - (sum(x*y))^2))"
   ]
  },
  {
   "cell_type": "markdown",
   "metadata": {},
   "source": [
    "El cual es el mismo t-valor de la regresion sin intercepto\n",
    "\n",
    "e)\n",
    "\n",
    "Hacer el intercambio de t(x,y) y t(y,x) da el mismo resultado. \n",
    "\n",
    "$$ t(x,y) = t(y,x)$$\n",
    "\n",
    "f)"
   ]
  },
  {
   "cell_type": "code",
   "execution_count": 80,
   "metadata": {},
   "outputs": [
    {
     "data": {
      "text/plain": [
       "\n",
       "Call:\n",
       "lm(formula = x ~ y)\n",
       "\n",
       "Residuals:\n",
       "     Min       1Q   Median       3Q      Max \n",
       "-0.90848 -0.28101  0.06274  0.24570  0.85736 \n",
       "\n",
       "Coefficients:\n",
       "            Estimate Std. Error t value Pr(>|t|)    \n",
       "(Intercept)  0.03880    0.04266    0.91    0.365    \n",
       "y            0.38942    0.02099   18.56   <2e-16 ***\n",
       "---\n",
       "Signif. codes:  0 '***' 0.001 '**' 0.01 '*' 0.05 '.' 0.1 ' ' 1\n",
       "\n",
       "Residual standard error: 0.4249 on 98 degrees of freedom\n",
       "Multiple R-squared:  0.7784,\tAdjusted R-squared:  0.7762 \n",
       "F-statistic: 344.3 on 1 and 98 DF,  p-value: < 2.2e-16\n"
      ]
     },
     "metadata": {},
     "output_type": "display_data"
    }
   ],
   "source": [
    "lm.fit2 = lm(x~y)\n",
    "summary(lm.fit2)"
   ]
  },
  {
   "cell_type": "code",
   "execution_count": 85,
   "metadata": {},
   "outputs": [
    {
     "data": {
      "text/plain": [
       "\n",
       "Call:\n",
       "lm(formula = y ~ x)\n",
       "\n",
       "Residuals:\n",
       "    Min      1Q  Median      3Q     Max \n",
       "-1.8768 -0.6138 -0.1395  0.5394  2.3462 \n",
       "\n",
       "Coefficients:\n",
       "            Estimate Std. Error t value Pr(>|t|)    \n",
       "(Intercept) -0.03769    0.09699  -0.389    0.698    \n",
       "x            1.99894    0.10773  18.556   <2e-16 ***\n",
       "---\n",
       "Signif. codes:  0 '***' 0.001 '**' 0.01 '*' 0.05 '.' 0.1 ' ' 1\n",
       "\n",
       "Residual standard error: 0.9628 on 98 degrees of freedom\n",
       "Multiple R-squared:  0.7784,\tAdjusted R-squared:  0.7762 \n",
       "F-statistic: 344.3 on 1 and 98 DF,  p-value: < 2.2e-16\n"
      ]
     },
     "metadata": {},
     "output_type": "display_data"
    }
   ],
   "source": [
    "lm.fit3 = lm(y~x)\n",
    "summary(lm.fit3)"
   ]
  },
  {
   "cell_type": "markdown",
   "metadata": {},
   "source": [
    "los t-valores son iguales para ambos casos"
   ]
  },
  {
   "cell_type": "markdown",
   "metadata": {},
   "source": [
    "# 3.13\n",
    "a)"
   ]
  },
  {
   "cell_type": "code",
   "execution_count": 40,
   "metadata": {},
   "outputs": [],
   "source": [
    "set.seed(1)\n",
    "x = rnorm(100)"
   ]
  },
  {
   "cell_type": "markdown",
   "metadata": {},
   "source": [
    "b)"
   ]
  },
  {
   "cell_type": "code",
   "execution_count": 41,
   "metadata": {},
   "outputs": [],
   "source": [
    "eps = rnorm(100,0,sqrt(0.25))"
   ]
  },
  {
   "cell_type": "markdown",
   "metadata": {},
   "source": [
    "c)"
   ]
  },
  {
   "cell_type": "code",
   "execution_count": 43,
   "metadata": {},
   "outputs": [
    {
     "data": {
      "text/html": [
       "100"
      ],
      "text/latex": [
       "100"
      ],
      "text/markdown": [
       "100"
      ],
      "text/plain": [
       "[1] 100"
      ]
     },
     "metadata": {},
     "output_type": "display_data"
    }
   ],
   "source": [
    "y = - 1 + 0.5*x + eps\n",
    "length(y)"
   ]
  },
  {
   "cell_type": "markdown",
   "metadata": {},
   "source": [
    "y tiene longitud de 100, $\\beta_0 = -1$ y $\\beta_1 = 0.5$\n",
    "\n",
    "d)"
   ]
  },
  {
   "cell_type": "code",
   "execution_count": 44,
   "metadata": {},
   "outputs": [
    {
     "data": {
      "image/png": "[encoded data removed]",
      "text/plain": [
       "plot without title"
      ]
     },
     "metadata": {
      "image/png": {
       "height": 420,
       "width": 420
      },
      "text/plain": {
       "height": 420,
       "width": 420
      }
     },
     "output_type": "display_data"
    }
   ],
   "source": [
    "plot(x, y)"
   ]
  },
  {
   "cell_type": "markdown",
   "metadata": {},
   "source": [
    "Se observa una realción lineal con pendiente positiva.\n",
    "\n",
    "e)"
   ]
  },
  {
   "cell_type": "code",
   "execution_count": 45,
   "metadata": {},
   "outputs": [
    {
     "data": {
      "text/plain": [
       "\n",
       "Call:\n",
       "lm(formula = y ~ x)\n",
       "\n",
       "Residuals:\n",
       "     Min       1Q   Median       3Q      Max \n",
       "-0.93842 -0.30688 -0.06975  0.26970  1.17309 \n",
       "\n",
       "Coefficients:\n",
       "            Estimate Std. Error t value Pr(>|t|)    \n",
       "(Intercept) -1.01885    0.04849 -21.010  < 2e-16 ***\n",
       "x            0.49947    0.05386   9.273 4.58e-15 ***\n",
       "---\n",
       "Signif. codes:  0 '***' 0.001 '**' 0.01 '*' 0.05 '.' 0.1 ' ' 1\n",
       "\n",
       "Residual standard error: 0.4814 on 98 degrees of freedom\n",
       "Multiple R-squared:  0.4674,\tAdjusted R-squared:  0.4619 \n",
       "F-statistic: 85.99 on 1 and 98 DF,  p-value: 4.583e-15\n"
      ]
     },
     "metadata": {},
     "output_type": "display_data"
    }
   ],
   "source": [
    "lm.fit = lm(y~x)\n",
    "summary(lm.fit)"
   ]
  },
  {
   "cell_type": "markdown",
   "metadata": {},
   "source": [
    "Se tiene un modelo con un p-valor pequeño y una estadostica F lejana de 1. Se puede rechazar la hipótesis nula.\n",
    "\n",
    "f)"
   ]
  },
  {
   "cell_type": "code",
   "execution_count": 60,
   "metadata": {},
   "outputs": [
    {
     "data": {
      "image/png": "[encoded data removed]",
      "text/plain": [
       "plot without title"
      ]
     },
     "metadata": {
      "image/png": {
       "height": 420,
       "width": 420
      },
      "text/plain": {
       "height": 420,
       "width": 420
      }
     },
     "output_type": "display_data"
    }
   ],
   "source": [
    "plot(x, y)\n",
    "abline(lm.fit, lwd=3, col=2)\n",
    "abline(-1, 0.5, lwd=3, col=1)\n",
    "legend(-1, legend = c(\"model fit\", \"pop reg\"), col=2:1, lwd=3)"
   ]
  },
  {
   "cell_type": "code",
   "execution_count": 63,
   "metadata": {},
   "outputs": [
    {
     "data": {
      "text/plain": [
       "\n",
       "Call:\n",
       "lm(formula = y ~ x + I(x^2))\n",
       "\n",
       "Residuals:\n",
       "     Min       1Q   Median       3Q      Max \n",
       "-0.98252 -0.31270 -0.06441  0.29014  1.13500 \n",
       "\n",
       "Coefficients:\n",
       "            Estimate Std. Error t value Pr(>|t|)    \n",
       "(Intercept) -0.97164    0.05883 -16.517  < 2e-16 ***\n",
       "x            0.50858    0.05399   9.420  2.4e-15 ***\n",
       "I(x^2)      -0.05946    0.04238  -1.403    0.164    \n",
       "---\n",
       "Signif. codes:  0 '***' 0.001 '**' 0.01 '*' 0.05 '.' 0.1 ' ' 1\n",
       "\n",
       "Residual standard error: 0.479 on 97 degrees of freedom\n",
       "Multiple R-squared:  0.4779,\tAdjusted R-squared:  0.4672 \n",
       "F-statistic:  44.4 on 2 and 97 DF,  p-value: 2.038e-14\n"
      ]
     },
     "metadata": {},
     "output_type": "display_data"
    }
   ],
   "source": [
    "lm.fit_sq = lm(y~x+I(x^2))\n",
    "summary(lm.fit_sq)"
   ]
  },
  {
   "cell_type": "markdown",
   "metadata": {},
   "source": [
    "El valor de $R^2$ aumento ligeramente, sin embargo se tiene un p-valor muy grande.\n",
    "\n",
    "h)"
   ]
  },
  {
   "cell_type": "code",
   "execution_count": 67,
   "metadata": {},
   "outputs": [
    {
     "data": {
      "text/plain": [
       "\n",
       "Call:\n",
       "lm(formula = y1 ~ x1)\n",
       "\n",
       "Residuals:\n",
       "     Min       1Q   Median       3Q      Max \n",
       "-0.29052 -0.07545  0.00067  0.07288  0.28664 \n",
       "\n",
       "Coefficients:\n",
       "            Estimate Std. Error t value Pr(>|t|)    \n",
       "(Intercept) -0.98639    0.01129  -87.34   <2e-16 ***\n",
       "x1           0.49988    0.01184   42.22   <2e-16 ***\n",
       "---\n",
       "Signif. codes:  0 '***' 0.001 '**' 0.01 '*' 0.05 '.' 0.1 ' ' 1\n",
       "\n",
       "Residual standard error: 0.1128 on 98 degrees of freedom\n",
       "Multiple R-squared:  0.9479,\tAdjusted R-squared:  0.9474 \n",
       "F-statistic:  1782 on 1 and 98 DF,  p-value: < 2.2e-16\n"
      ]
     },
     "metadata": {},
     "output_type": "display_data"
    },
    {
     "data": {
      "image/png": "[encoded data removed]",
      "text/plain": [
       "plot without title"
      ]
     },
     "metadata": {
      "image/png": {
       "height": 420,
       "width": 420
      },
      "text/plain": {
       "height": 420,
       "width": 420
      }
     },
     "output_type": "display_data"
    }
   ],
   "source": [
    "set.seed(1)\n",
    "eps1 = rnorm(100, 0, 0.125) #se disminuye var de 0.25 a 0.125\n",
    "x1 = rnorm(100)\n",
    "y1 = -1 + 0.5*x1 + eps1\n",
    "plot(x1, y1)\n",
    "lm.fit1 = lm(y1~x1)\n",
    "summary(lm.fit1)\n",
    "abline(lm.fit1, lwd=3, col=2)\n",
    "abline(-1, 0.5, lwd=3, col=3)\n",
    "legend(-1, legend = c(\"model fit\", \"pop. regression\"), col=2:3, lwd=3)"
   ]
  },
  {
   "cell_type": "markdown",
   "metadata": {},
   "source": [
    "Se observo un aumento significativo en $R^2$ de 0.467 a 0.9479, y RSE disminuyó de 0.481 a 0.1128\n",
    "\n",
    "i)"
   ]
  },
  {
   "cell_type": "code",
   "execution_count": 68,
   "metadata": {},
   "outputs": [
    {
     "data": {
      "text/plain": [
       "\n",
       "Call:\n",
       "lm(formula = y2 ~ x2)\n",
       "\n",
       "Residuals:\n",
       "     Min       1Q   Median       3Q      Max \n",
       "-1.16208 -0.30181  0.00268  0.29152  1.14658 \n",
       "\n",
       "Coefficients:\n",
       "            Estimate Std. Error t value Pr(>|t|)    \n",
       "(Intercept) -0.94557    0.04517  -20.93   <2e-16 ***\n",
       "x2           0.49953    0.04736   10.55   <2e-16 ***\n",
       "---\n",
       "Signif. codes:  0 '***' 0.001 '**' 0.01 '*' 0.05 '.' 0.1 ' ' 1\n",
       "\n",
       "Residual standard error: 0.4514 on 98 degrees of freedom\n",
       "Multiple R-squared:  0.5317,\tAdjusted R-squared:  0.5269 \n",
       "F-statistic: 111.2 on 1 and 98 DF,  p-value: < 2.2e-16\n"
      ]
     },
     "metadata": {},
     "output_type": "display_data"
    },
    {
     "data": {
      "image/png": "[encoded data removed]",
      "text/plain": [
       "plot without title"
      ]
     },
     "metadata": {
      "image/png": {
       "height": 420,
       "width": 420
      },
      "text/plain": {
       "height": 420,
       "width": 420
      }
     },
     "output_type": "display_data"
    }
   ],
   "source": [
    "set.seed(1)\n",
    "eps2 = rnorm(100, 0, 0.5) #se disminuye var de 0.25 a 0.5\n",
    "x2 = rnorm(100)\n",
    "y2 = -1 + 0.5*x2 + eps2\n",
    "plot(x2, y2)\n",
    "lm.fit2 = lm(y2~x2)\n",
    "summary(lm.fit2)\n",
    "abline(lm.fit2, lwd=3, col=2)\n",
    "abline(-1, 0.5, lwd=3, col=3)\n",
    "legend(-1, legend = c(\"model fit\", \"pop. regression\"), col=2:3, lwd=3)"
   ]
  },
  {
   "cell_type": "markdown",
   "metadata": {},
   "source": [
    "$R^2$ aumentó de 0.467 a 0.5317 y RSE disminuyó de 0.481 a 0.4514\n",
    "\n",
    "j)"
   ]
  },
  {
   "cell_type": "code",
   "execution_count": 69,
   "metadata": {},
   "outputs": [
    {
     "data": {
      "text/html": [
       "<table>\n",
       "<caption>A matrix: 2 × 2 of type dbl</caption>\n",
       "<thead>\n",
       "\t<tr><th></th><th scope=col>2.5 %</th><th scope=col>97.5 %</th></tr>\n",
       "</thead>\n",
       "<tbody>\n",
       "\t<tr><th scope=row>(Intercept)</th><td>-1.1150804</td><td>-0.9226122</td></tr>\n",
       "\t<tr><th scope=row>x</th><td> 0.3925794</td><td> 0.6063602</td></tr>\n",
       "</tbody>\n",
       "</table>\n"
      ],
      "text/latex": [
       "A matrix: 2 × 2 of type dbl\n",
       "\\begin{tabular}{r|ll}\n",
       "  & 2.5 \\% & 97.5 \\%\\\\\n",
       "\\hline\n",
       "\t(Intercept) & -1.1150804 & -0.9226122\\\\\n",
       "\tx &  0.3925794 &  0.6063602\\\\\n",
       "\\end{tabular}\n"
      ],
      "text/markdown": [
       "\n",
       "A matrix: 2 × 2 of type dbl\n",
       "\n",
       "| <!--/--> | 2.5 % | 97.5 % |\n",
       "|---|---|---|\n",
       "| (Intercept) | -1.1150804 | -0.9226122 |\n",
       "| x |  0.3925794 |  0.6063602 |\n",
       "\n"
      ],
      "text/plain": [
       "            2.5 %      97.5 %    \n",
       "(Intercept) -1.1150804 -0.9226122\n",
       "x            0.3925794  0.6063602"
      ]
     },
     "metadata": {},
     "output_type": "display_data"
    }
   ],
   "source": [
    "confint(lm.fit)"
   ]
  },
  {
   "cell_type": "code",
   "execution_count": 70,
   "metadata": {},
   "outputs": [
    {
     "data": {
      "text/html": [
       "<table>\n",
       "<caption>A matrix: 2 × 2 of type dbl</caption>\n",
       "<thead>\n",
       "\t<tr><th></th><th scope=col>2.5 %</th><th scope=col>97.5 %</th></tr>\n",
       "</thead>\n",
       "<tbody>\n",
       "\t<tr><th scope=row>(Intercept)</th><td>-1.008805</td><td>-0.9639819</td></tr>\n",
       "\t<tr><th scope=row>x1</th><td> 0.476387</td><td> 0.5233799</td></tr>\n",
       "</tbody>\n",
       "</table>\n"
      ],
      "text/latex": [
       "A matrix: 2 × 2 of type dbl\n",
       "\\begin{tabular}{r|ll}\n",
       "  & 2.5 \\% & 97.5 \\%\\\\\n",
       "\\hline\n",
       "\t(Intercept) & -1.008805 & -0.9639819\\\\\n",
       "\tx1 &  0.476387 &  0.5233799\\\\\n",
       "\\end{tabular}\n"
      ],
      "text/markdown": [
       "\n",
       "A matrix: 2 × 2 of type dbl\n",
       "\n",
       "| <!--/--> | 2.5 % | 97.5 % |\n",
       "|---|---|---|\n",
       "| (Intercept) | -1.008805 | -0.9639819 |\n",
       "| x1 |  0.476387 |  0.5233799 |\n",
       "\n"
      ],
      "text/plain": [
       "            2.5 %     97.5 %    \n",
       "(Intercept) -1.008805 -0.9639819\n",
       "x1           0.476387  0.5233799"
      ]
     },
     "metadata": {},
     "output_type": "display_data"
    }
   ],
   "source": [
    "confint(lm.fit1)"
   ]
  },
  {
   "cell_type": "code",
   "execution_count": 71,
   "metadata": {},
   "outputs": [
    {
     "data": {
      "text/html": [
       "<table>\n",
       "<caption>A matrix: 2 × 2 of type dbl</caption>\n",
       "<thead>\n",
       "\t<tr><th></th><th scope=col>2.5 %</th><th scope=col>97.5 %</th></tr>\n",
       "</thead>\n",
       "<tbody>\n",
       "\t<tr><th scope=row>(Intercept)</th><td>-1.0352203</td><td>-0.8559276</td></tr>\n",
       "\t<tr><th scope=row>x2</th><td> 0.4055479</td><td> 0.5935197</td></tr>\n",
       "</tbody>\n",
       "</table>\n"
      ],
      "text/latex": [
       "A matrix: 2 × 2 of type dbl\n",
       "\\begin{tabular}{r|ll}\n",
       "  & 2.5 \\% & 97.5 \\%\\\\\n",
       "\\hline\n",
       "\t(Intercept) & -1.0352203 & -0.8559276\\\\\n",
       "\tx2 &  0.4055479 &  0.5935197\\\\\n",
       "\\end{tabular}\n"
      ],
      "text/markdown": [
       "\n",
       "A matrix: 2 × 2 of type dbl\n",
       "\n",
       "| <!--/--> | 2.5 % | 97.5 % |\n",
       "|---|---|---|\n",
       "| (Intercept) | -1.0352203 | -0.8559276 |\n",
       "| x2 |  0.4055479 |  0.5935197 |\n",
       "\n"
      ],
      "text/plain": [
       "            2.5 %      97.5 %    \n",
       "(Intercept) -1.0352203 -0.8559276\n",
       "x2           0.4055479  0.5935197"
      ]
     },
     "metadata": {},
     "output_type": "display_data"
    }
   ],
   "source": [
    "confint(lm.fit2)"
   ]
  },
  {
   "cell_type": "markdown",
   "metadata": {},
   "source": [
    "# 3.15\n",
    "a)"
   ]
  },
  {
   "cell_type": "code",
   "execution_count": 11,
   "metadata": {},
   "outputs": [
    {
     "name": "stderr",
     "output_type": "stream",
     "text": [
      "The following objects are masked from Boston (pos = 3):\n",
      "\n",
      "    age, black, chas, crim, dis, indus, lstat, medv, nox, ptratio, rad,\n",
      "    rm, tax, zn\n",
      "\n",
      "\n"
     ]
    },
    {
     "data": {
      "text/plain": [
       "\n",
       "Call:\n",
       "lm(formula = crim ~ zn)\n",
       "\n",
       "Residuals:\n",
       "   Min     1Q Median     3Q    Max \n",
       "-4.429 -4.222 -2.620  1.250 84.523 \n",
       "\n",
       "Coefficients:\n",
       "            Estimate Std. Error t value Pr(>|t|)    \n",
       "(Intercept)  4.45369    0.41722  10.675  < 2e-16 ***\n",
       "zn          -0.07393    0.01609  -4.594 5.51e-06 ***\n",
       "---\n",
       "Signif. codes:  0 '***' 0.001 '**' 0.01 '*' 0.05 '.' 0.1 ' ' 1\n",
       "\n",
       "Residual standard error: 8.435 on 504 degrees of freedom\n",
       "Multiple R-squared:  0.04019,\tAdjusted R-squared:  0.03828 \n",
       "F-statistic:  21.1 on 1 and 504 DF,  p-value: 5.506e-06\n"
      ]
     },
     "metadata": {},
     "output_type": "display_data"
    },
    {
     "data": {
      "image/png": "[encoded data removed]",
      "text/plain": [
       "Plot with title \"\""
      ]
     },
     "metadata": {
      "image/png": {
       "height": 420,
       "width": 420
      },
      "text/plain": {
       "height": 420,
       "width": 420
      }
     },
     "output_type": "display_data"
    }
   ],
   "source": [
    "library(MASS)\n",
    "attach(Boston)\n",
    "lm.zn = lm(crim~zn) #crimen y zonas residenciales 25,000 sq ft\n",
    "summary(lm.zn) \n",
    "par(mfrow=c(2,2))\n",
    "plot(lm.zn)"
   ]
  },
  {
   "cell_type": "code",
   "execution_count": 12,
   "metadata": {},
   "outputs": [
    {
     "data": {
      "text/plain": [
       "\n",
       "Call:\n",
       "lm(formula = crim ~ indus)\n",
       "\n",
       "Residuals:\n",
       "    Min      1Q  Median      3Q     Max \n",
       "-11.972  -2.698  -0.736   0.712  81.813 \n",
       "\n",
       "Coefficients:\n",
       "            Estimate Std. Error t value Pr(>|t|)    \n",
       "(Intercept) -2.06374    0.66723  -3.093  0.00209 ** \n",
       "indus        0.50978    0.05102   9.991  < 2e-16 ***\n",
       "---\n",
       "Signif. codes:  0 '***' 0.001 '**' 0.01 '*' 0.05 '.' 0.1 ' ' 1\n",
       "\n",
       "Residual standard error: 7.866 on 504 degrees of freedom\n",
       "Multiple R-squared:  0.1653,\tAdjusted R-squared:  0.1637 \n",
       "F-statistic: 99.82 on 1 and 504 DF,  p-value: < 2.2e-16\n"
      ]
     },
     "metadata": {},
     "output_type": "display_data"
    }
   ],
   "source": [
    "lm.indus = lm(crim~indus) #crimen y non retail business acres\n",
    "summary(lm.indus)\n",
    "par(mfrow=c(2,2))\n",
    "#plot(lm.indus)"
   ]
  },
  {
   "cell_type": "code",
   "execution_count": 13,
   "metadata": {},
   "outputs": [
    {
     "data": {
      "text/plain": [
       "\n",
       "Call:\n",
       "lm(formula = crim ~ chas)\n",
       "\n",
       "Residuals:\n",
       "   Min     1Q Median     3Q    Max \n",
       "-3.738 -3.661 -3.435  0.018 85.232 \n",
       "\n",
       "Coefficients:\n",
       "            Estimate Std. Error t value Pr(>|t|)    \n",
       "(Intercept)   3.7444     0.3961   9.453   <2e-16 ***\n",
       "chas         -1.8928     1.5061  -1.257    0.209    \n",
       "---\n",
       "Signif. codes:  0 '***' 0.001 '**' 0.01 '*' 0.05 '.' 0.1 ' ' 1\n",
       "\n",
       "Residual standard error: 8.597 on 504 degrees of freedom\n",
       "Multiple R-squared:  0.003124,\tAdjusted R-squared:  0.001146 \n",
       "F-statistic: 1.579 on 1 and 504 DF,  p-value: 0.2094\n"
      ]
     },
     "metadata": {},
     "output_type": "display_data"
    },
    {
     "data": {
      "image/png": "[encoded data removed]",
      "text/plain": [
       "Plot with title \"\""
      ]
     },
     "metadata": {
      "image/png": {
       "height": 420,
       "width": 420
      },
      "text/plain": {
       "height": 420,
       "width": 420
      }
     },
     "output_type": "display_data"
    }
   ],
   "source": [
    "lm.chas = lm(crim~chas) #crimen y cercania al rio charles\n",
    "summary(lm.chas) \n",
    "par(mfrow=c(2,2))\n",
    "plot(lm.chas)"
   ]
  },
  {
   "cell_type": "code",
   "execution_count": 14,
   "metadata": {},
   "outputs": [
    {
     "data": {
      "text/plain": [
       "\n",
       "Call:\n",
       "lm(formula = crim ~ nox)\n",
       "\n",
       "Residuals:\n",
       "    Min      1Q  Median      3Q     Max \n",
       "-12.371  -2.738  -0.974   0.559  81.728 \n",
       "\n",
       "Coefficients:\n",
       "            Estimate Std. Error t value Pr(>|t|)    \n",
       "(Intercept)  -13.720      1.699  -8.073 5.08e-15 ***\n",
       "nox           31.249      2.999  10.419  < 2e-16 ***\n",
       "---\n",
       "Signif. codes:  0 '***' 0.001 '**' 0.01 '*' 0.05 '.' 0.1 ' ' 1\n",
       "\n",
       "Residual standard error: 7.81 on 504 degrees of freedom\n",
       "Multiple R-squared:  0.1772,\tAdjusted R-squared:  0.1756 \n",
       "F-statistic: 108.6 on 1 and 504 DF,  p-value: < 2.2e-16\n"
      ]
     },
     "metadata": {},
     "output_type": "display_data"
    }
   ],
   "source": [
    "lm.nox = lm(crim~nox) #crimen y concentraciones de oxidos de nitrogeno\n",
    "summary(lm.nox)\n",
    "par(mfrow=c(2,2))\n",
    "#plot(lm.nox)"
   ]
  },
  {
   "cell_type": "code",
   "execution_count": 15,
   "metadata": {},
   "outputs": [
    {
     "data": {
      "text/plain": [
       "\n",
       "Call:\n",
       "lm(formula = crim ~ rm)\n",
       "\n",
       "Residuals:\n",
       "   Min     1Q Median     3Q    Max \n",
       "-6.604 -3.952 -2.654  0.989 87.197 \n",
       "\n",
       "Coefficients:\n",
       "            Estimate Std. Error t value Pr(>|t|)    \n",
       "(Intercept)   20.482      3.365   6.088 2.27e-09 ***\n",
       "rm            -2.684      0.532  -5.045 6.35e-07 ***\n",
       "---\n",
       "Signif. codes:  0 '***' 0.001 '**' 0.01 '*' 0.05 '.' 0.1 ' ' 1\n",
       "\n",
       "Residual standard error: 8.401 on 504 degrees of freedom\n",
       "Multiple R-squared:  0.04807,\tAdjusted R-squared:  0.04618 \n",
       "F-statistic: 25.45 on 1 and 504 DF,  p-value: 6.347e-07\n"
      ]
     },
     "metadata": {},
     "output_type": "display_data"
    }
   ],
   "source": [
    "lm.rm = lm(crim~rm) #crimen y numero promedio de habitaciones por vivienda\n",
    "summary(lm.rm) \n",
    "par(mfrow=c(2,2))\n",
    "#plot(lm.rm)"
   ]
  },
  {
   "cell_type": "code",
   "execution_count": 16,
   "metadata": {},
   "outputs": [
    {
     "data": {
      "text/plain": [
       "\n",
       "Call:\n",
       "lm(formula = crim ~ age)\n",
       "\n",
       "Residuals:\n",
       "   Min     1Q Median     3Q    Max \n",
       "-6.789 -4.257 -1.230  1.527 82.849 \n",
       "\n",
       "Coefficients:\n",
       "            Estimate Std. Error t value Pr(>|t|)    \n",
       "(Intercept) -3.77791    0.94398  -4.002 7.22e-05 ***\n",
       "age          0.10779    0.01274   8.463 2.85e-16 ***\n",
       "---\n",
       "Signif. codes:  0 '***' 0.001 '**' 0.01 '*' 0.05 '.' 0.1 ' ' 1\n",
       "\n",
       "Residual standard error: 8.057 on 504 degrees of freedom\n",
       "Multiple R-squared:  0.1244,\tAdjusted R-squared:  0.1227 \n",
       "F-statistic: 71.62 on 1 and 504 DF,  p-value: 2.855e-16\n"
      ]
     },
     "metadata": {},
     "output_type": "display_data"
    }
   ],
   "source": [
    "lm.age = lm(crim~age) #crimen y edad del edificio\n",
    "summary(lm.age)\n",
    "par(mfrow=c(2,2))\n",
    "#plot(lm.age)"
   ]
  },
  {
   "cell_type": "code",
   "execution_count": 17,
   "metadata": {},
   "outputs": [
    {
     "data": {
      "text/plain": [
       "\n",
       "Call:\n",
       "lm(formula = crim ~ dis)\n",
       "\n",
       "Residuals:\n",
       "   Min     1Q Median     3Q    Max \n",
       "-6.708 -4.134 -1.527  1.516 81.674 \n",
       "\n",
       "Coefficients:\n",
       "            Estimate Std. Error t value Pr(>|t|)    \n",
       "(Intercept)   9.4993     0.7304  13.006   <2e-16 ***\n",
       "dis          -1.5509     0.1683  -9.213   <2e-16 ***\n",
       "---\n",
       "Signif. codes:  0 '***' 0.001 '**' 0.01 '*' 0.05 '.' 0.1 ' ' 1\n",
       "\n",
       "Residual standard error: 7.965 on 504 degrees of freedom\n",
       "Multiple R-squared:  0.1441,\tAdjusted R-squared:  0.1425 \n",
       "F-statistic: 84.89 on 1 and 504 DF,  p-value: < 2.2e-16\n"
      ]
     },
     "metadata": {},
     "output_type": "display_data"
    }
   ],
   "source": [
    "lm.dis = lm(crim~dis) #crimen y distancia a entros de empleo\n",
    "summary(lm.dis)\n",
    "par(mfrow=c(2,2))\n",
    "#plot(lm.dis)"
   ]
  },
  {
   "cell_type": "code",
   "execution_count": 18,
   "metadata": {},
   "outputs": [
    {
     "data": {
      "text/plain": [
       "\n",
       "Call:\n",
       "lm(formula = crim ~ rad)\n",
       "\n",
       "Residuals:\n",
       "    Min      1Q  Median      3Q     Max \n",
       "-10.164  -1.381  -0.141   0.660  76.433 \n",
       "\n",
       "Coefficients:\n",
       "            Estimate Std. Error t value Pr(>|t|)    \n",
       "(Intercept) -2.28716    0.44348  -5.157 3.61e-07 ***\n",
       "rad          0.61791    0.03433  17.998  < 2e-16 ***\n",
       "---\n",
       "Signif. codes:  0 '***' 0.001 '**' 0.01 '*' 0.05 '.' 0.1 ' ' 1\n",
       "\n",
       "Residual standard error: 6.718 on 504 degrees of freedom\n",
       "Multiple R-squared:  0.3913,\tAdjusted R-squared:   0.39 \n",
       "F-statistic: 323.9 on 1 and 504 DF,  p-value: < 2.2e-16\n"
      ]
     },
     "metadata": {},
     "output_type": "display_data"
    }
   ],
   "source": [
    "lm.rad = lm(crim~rad) #crimen y cercania a carreteras\n",
    "summary(lm.rad)\n",
    "par(mfrow=c(2,2))\n",
    "#plot(lm.rad)"
   ]
  },
  {
   "cell_type": "code",
   "execution_count": 19,
   "metadata": {},
   "outputs": [
    {
     "data": {
      "text/plain": [
       "\n",
       "Call:\n",
       "lm(formula = crim ~ tax)\n",
       "\n",
       "Residuals:\n",
       "    Min      1Q  Median      3Q     Max \n",
       "-12.513  -2.738  -0.194   1.065  77.696 \n",
       "\n",
       "Coefficients:\n",
       "             Estimate Std. Error t value Pr(>|t|)    \n",
       "(Intercept) -8.528369   0.815809  -10.45   <2e-16 ***\n",
       "tax          0.029742   0.001847   16.10   <2e-16 ***\n",
       "---\n",
       "Signif. codes:  0 '***' 0.001 '**' 0.01 '*' 0.05 '.' 0.1 ' ' 1\n",
       "\n",
       "Residual standard error: 6.997 on 504 degrees of freedom\n",
       "Multiple R-squared:  0.3396,\tAdjusted R-squared:  0.3383 \n",
       "F-statistic: 259.2 on 1 and 504 DF,  p-value: < 2.2e-16\n"
      ]
     },
     "metadata": {},
     "output_type": "display_data"
    }
   ],
   "source": [
    "lm.tax = lm(crim~tax) #crimen e impuestos\n",
    "summary(lm.tax)\n",
    "par(mfrow=c(2,2))\n",
    "#plot(lm.tax)"
   ]
  },
  {
   "cell_type": "code",
   "execution_count": 20,
   "metadata": {},
   "outputs": [
    {
     "data": {
      "text/plain": [
       "\n",
       "Call:\n",
       "lm(formula = crim ~ ptratio)\n",
       "\n",
       "Residuals:\n",
       "   Min     1Q Median     3Q    Max \n",
       "-7.654 -3.985 -1.912  1.825 83.353 \n",
       "\n",
       "Coefficients:\n",
       "            Estimate Std. Error t value Pr(>|t|)    \n",
       "(Intercept) -17.6469     3.1473  -5.607 3.40e-08 ***\n",
       "ptratio       1.1520     0.1694   6.801 2.94e-11 ***\n",
       "---\n",
       "Signif. codes:  0 '***' 0.001 '**' 0.01 '*' 0.05 '.' 0.1 ' ' 1\n",
       "\n",
       "Residual standard error: 8.24 on 504 degrees of freedom\n",
       "Multiple R-squared:  0.08407,\tAdjusted R-squared:  0.08225 \n",
       "F-statistic: 46.26 on 1 and 504 DF,  p-value: 2.943e-11\n"
      ]
     },
     "metadata": {},
     "output_type": "display_data"
    }
   ],
   "source": [
    "lm.ptratio = lm(crim~ptratio) #crimen y taza de maestros promedio\n",
    "summary(lm.ptratio)\n",
    "par(mfrow=c(2,2))\n",
    "#plot(lm.ptratio)"
   ]
  },
  {
   "cell_type": "code",
   "execution_count": 21,
   "metadata": {},
   "outputs": [
    {
     "data": {
      "text/plain": [
       "\n",
       "Call:\n",
       "lm(formula = crim ~ black)\n",
       "\n",
       "Residuals:\n",
       "    Min      1Q  Median      3Q     Max \n",
       "-13.756  -2.299  -2.095  -1.296  86.822 \n",
       "\n",
       "Coefficients:\n",
       "             Estimate Std. Error t value Pr(>|t|)    \n",
       "(Intercept) 16.553529   1.425903  11.609   <2e-16 ***\n",
       "black       -0.036280   0.003873  -9.367   <2e-16 ***\n",
       "---\n",
       "Signif. codes:  0 '***' 0.001 '**' 0.01 '*' 0.05 '.' 0.1 ' ' 1\n",
       "\n",
       "Residual standard error: 7.946 on 504 degrees of freedom\n",
       "Multiple R-squared:  0.1483,\tAdjusted R-squared:  0.1466 \n",
       "F-statistic: 87.74 on 1 and 504 DF,  p-value: < 2.2e-16\n"
      ]
     },
     "metadata": {},
     "output_type": "display_data"
    }
   ],
   "source": [
    "lm.black = lm(crim~black) #crimen y poblacion de afro americanos\n",
    "summary(lm.black)\n",
    "par(mfrow=c(2,2))\n",
    "#plot(lm.black)"
   ]
  },
  {
   "cell_type": "code",
   "execution_count": 22,
   "metadata": {},
   "outputs": [
    {
     "data": {
      "text/plain": [
       "\n",
       "Call:\n",
       "lm(formula = crim ~ lstat)\n",
       "\n",
       "Residuals:\n",
       "    Min      1Q  Median      3Q     Max \n",
       "-13.925  -2.822  -0.664   1.079  82.862 \n",
       "\n",
       "Coefficients:\n",
       "            Estimate Std. Error t value Pr(>|t|)    \n",
       "(Intercept) -3.33054    0.69376  -4.801 2.09e-06 ***\n",
       "lstat        0.54880    0.04776  11.491  < 2e-16 ***\n",
       "---\n",
       "Signif. codes:  0 '***' 0.001 '**' 0.01 '*' 0.05 '.' 0.1 ' ' 1\n",
       "\n",
       "Residual standard error: 7.664 on 504 degrees of freedom\n",
       "Multiple R-squared:  0.2076,\tAdjusted R-squared:  0.206 \n",
       "F-statistic:   132 on 1 and 504 DF,  p-value: < 2.2e-16\n"
      ]
     },
     "metadata": {},
     "output_type": "display_data"
    }
   ],
   "source": [
    "lm.lstat = lm(crim~lstat) #crimen y porcentaje de poblacion de status bajo\n",
    "summary(lm.lstat)\n",
    "par(mfrow=c(2,2))\n",
    "#plot(lm.lstat)"
   ]
  },
  {
   "cell_type": "code",
   "execution_count": 23,
   "metadata": {},
   "outputs": [
    {
     "data": {
      "text/plain": [
       "\n",
       "Call:\n",
       "lm(formula = crim ~ medv)\n",
       "\n",
       "Residuals:\n",
       "   Min     1Q Median     3Q    Max \n",
       "-9.071 -4.022 -2.343  1.298 80.957 \n",
       "\n",
       "Coefficients:\n",
       "            Estimate Std. Error t value Pr(>|t|)    \n",
       "(Intercept) 11.79654    0.93419   12.63   <2e-16 ***\n",
       "medv        -0.36316    0.03839   -9.46   <2e-16 ***\n",
       "---\n",
       "Signif. codes:  0 '***' 0.001 '**' 0.01 '*' 0.05 '.' 0.1 ' ' 1\n",
       "\n",
       "Residual standard error: 7.934 on 504 degrees of freedom\n",
       "Multiple R-squared:  0.1508,\tAdjusted R-squared:  0.1491 \n",
       "F-statistic: 89.49 on 1 and 504 DF,  p-value: < 2.2e-16\n"
      ]
     },
     "metadata": {},
     "output_type": "display_data"
    }
   ],
   "source": [
    "lm.medv = lm(crim~medv) #crimen y valo medio de casas ocupadas en $1000s\n",
    "summary(lm.medv)\n",
    "par(mfrow=c(2,2))\n",
    "#plot(lm.medv)"
   ]
  },
  {
   "cell_type": "markdown",
   "metadata": {},
   "source": [
    "No se pudo hacer regresion con el parametro chas ya que este es cualitativo. \n",
    "Basado en los valores de la estadistica - F algunso de los predicotres más significativos son nox, rad y tax.\n",
    "\n",
    "b)"
   ]
  },
  {
   "cell_type": "code",
   "execution_count": 25,
   "metadata": {},
   "outputs": [
    {
     "data": {
      "text/plain": [
       "\n",
       "Call:\n",
       "lm(formula = crim ~ ., data = Boston)\n",
       "\n",
       "Residuals:\n",
       "   Min     1Q Median     3Q    Max \n",
       "-9.924 -2.120 -0.353  1.019 75.051 \n",
       "\n",
       "Coefficients:\n",
       "              Estimate Std. Error t value Pr(>|t|)    \n",
       "(Intercept)  17.033228   7.234903   2.354 0.018949 *  \n",
       "zn            0.044855   0.018734   2.394 0.017025 *  \n",
       "indus        -0.063855   0.083407  -0.766 0.444294    \n",
       "chas         -0.749134   1.180147  -0.635 0.525867    \n",
       "nox         -10.313535   5.275536  -1.955 0.051152 .  \n",
       "rm            0.430131   0.612830   0.702 0.483089    \n",
       "age           0.001452   0.017925   0.081 0.935488    \n",
       "dis          -0.987176   0.281817  -3.503 0.000502 ***\n",
       "rad           0.588209   0.088049   6.680 6.46e-11 ***\n",
       "tax          -0.003780   0.005156  -0.733 0.463793    \n",
       "ptratio      -0.271081   0.186450  -1.454 0.146611    \n",
       "black        -0.007538   0.003673  -2.052 0.040702 *  \n",
       "lstat         0.126211   0.075725   1.667 0.096208 .  \n",
       "medv         -0.198887   0.060516  -3.287 0.001087 ** \n",
       "---\n",
       "Signif. codes:  0 '***' 0.001 '**' 0.01 '*' 0.05 '.' 0.1 ' ' 1\n",
       "\n",
       "Residual standard error: 6.439 on 492 degrees of freedom\n",
       "Multiple R-squared:  0.454,\tAdjusted R-squared:  0.4396 \n",
       "F-statistic: 31.47 on 13 and 492 DF,  p-value: < 2.2e-16\n"
      ]
     },
     "metadata": {},
     "output_type": "display_data"
    }
   ],
   "source": [
    "lm.all = lm(crim~., data=Boston) #crimen y todos los predictores\n",
    "summary(lm.all)"
   ]
  },
  {
   "cell_type": "markdown",
   "metadata": {},
   "source": [
    "Los predictores dis,rad y medv tiene p-valores más pequeños comparados con los demás, por tanto se puede descartar la hipotesus núla en estos.\n",
    "\n",
    "c)"
   ]
  },
  {
   "cell_type": "code",
   "execution_count": 26,
   "metadata": {},
   "outputs": [
    {
     "data": {
      "image/png": "[encoded data removed]",
      "text/plain": [
       "plot without title"
      ]
     },
     "metadata": {
      "image/png": {
       "height": 420,
       "width": 420
      },
      "text/plain": {
       "height": 420,
       "width": 420
      }
     },
     "output_type": "display_data"
    }
   ],
   "source": [
    "x = c(coefficients(lm.zn)[2],\n",
    "      coefficients(lm.indus)[2],\n",
    "      coefficients(lm.chas)[2],\n",
    "      coefficients(lm.nox)[2],\n",
    "      coefficients(lm.rm)[2],\n",
    "      coefficients(lm.age)[2],\n",
    "      coefficients(lm.dis)[2],\n",
    "      coefficients(lm.rad)[2],\n",
    "      coefficients(lm.tax)[2],\n",
    "      coefficients(lm.ptratio)[2],\n",
    "      coefficients(lm.black)[2],\n",
    "      coefficients(lm.lstat)[2],\n",
    "      coefficients(lm.medv)[2])\n",
    "\n",
    "y = coefficients(lm.all)[2:14]\n",
    "plot(x, y)"
   ]
  },
  {
   "cell_type": "markdown",
   "metadata": {},
   "source": [
    "El coeficiente para nox es diferente en regresion simple (-10 )y regresion multiple (30).\n",
    "\n",
    "d)"
   ]
  },
  {
   "cell_type": "code",
   "execution_count": 27,
   "metadata": {},
   "outputs": [
    {
     "data": {
      "text/plain": [
       "\n",
       "Call:\n",
       "lm(formula = crim ~ poly(zn, 3))\n",
       "\n",
       "Residuals:\n",
       "   Min     1Q Median     3Q    Max \n",
       "-4.821 -4.614 -1.294  0.473 84.130 \n",
       "\n",
       "Coefficients:\n",
       "             Estimate Std. Error t value Pr(>|t|)    \n",
       "(Intercept)    3.6135     0.3722   9.709  < 2e-16 ***\n",
       "poly(zn, 3)1 -38.7498     8.3722  -4.628  4.7e-06 ***\n",
       "poly(zn, 3)2  23.9398     8.3722   2.859  0.00442 ** \n",
       "poly(zn, 3)3 -10.0719     8.3722  -1.203  0.22954    \n",
       "---\n",
       "Signif. codes:  0 '***' 0.001 '**' 0.01 '*' 0.05 '.' 0.1 ' ' 1\n",
       "\n",
       "Residual standard error: 8.372 on 502 degrees of freedom\n",
       "Multiple R-squared:  0.05824,\tAdjusted R-squared:  0.05261 \n",
       "F-statistic: 10.35 on 3 and 502 DF,  p-value: 1.281e-06\n"
      ]
     },
     "metadata": {},
     "output_type": "display_data"
    }
   ],
   "source": [
    "lm.zn = lm(crim~poly(zn,3))\n",
    "summary(lm.zn) "
   ]
  },
  {
   "cell_type": "code",
   "execution_count": 28,
   "metadata": {},
   "outputs": [
    {
     "data": {
      "text/plain": [
       "\n",
       "Call:\n",
       "lm(formula = crim ~ poly(indus, 3))\n",
       "\n",
       "Residuals:\n",
       "   Min     1Q Median     3Q    Max \n",
       "-8.278 -2.514  0.054  0.764 79.713 \n",
       "\n",
       "Coefficients:\n",
       "                Estimate Std. Error t value Pr(>|t|)    \n",
       "(Intercept)        3.614      0.330  10.950  < 2e-16 ***\n",
       "poly(indus, 3)1   78.591      7.423  10.587  < 2e-16 ***\n",
       "poly(indus, 3)2  -24.395      7.423  -3.286  0.00109 ** \n",
       "poly(indus, 3)3  -54.130      7.423  -7.292  1.2e-12 ***\n",
       "---\n",
       "Signif. codes:  0 '***' 0.001 '**' 0.01 '*' 0.05 '.' 0.1 ' ' 1\n",
       "\n",
       "Residual standard error: 7.423 on 502 degrees of freedom\n",
       "Multiple R-squared:  0.2597,\tAdjusted R-squared:  0.2552 \n",
       "F-statistic: 58.69 on 3 and 502 DF,  p-value: < 2.2e-16\n"
      ]
     },
     "metadata": {},
     "output_type": "display_data"
    }
   ],
   "source": [
    "lm.indus = lm(crim~poly(indus,3))\n",
    "summary(lm.indus) "
   ]
  },
  {
   "cell_type": "code",
   "execution_count": 29,
   "metadata": {},
   "outputs": [
    {
     "data": {
      "text/plain": [
       "\n",
       "Call:\n",
       "lm(formula = crim ~ poly(nox, 3))\n",
       "\n",
       "Residuals:\n",
       "   Min     1Q Median     3Q    Max \n",
       "-9.110 -2.068 -0.255  0.739 78.302 \n",
       "\n",
       "Coefficients:\n",
       "              Estimate Std. Error t value Pr(>|t|)    \n",
       "(Intercept)     3.6135     0.3216  11.237  < 2e-16 ***\n",
       "poly(nox, 3)1  81.3720     7.2336  11.249  < 2e-16 ***\n",
       "poly(nox, 3)2 -28.8286     7.2336  -3.985 7.74e-05 ***\n",
       "poly(nox, 3)3 -60.3619     7.2336  -8.345 6.96e-16 ***\n",
       "---\n",
       "Signif. codes:  0 '***' 0.001 '**' 0.01 '*' 0.05 '.' 0.1 ' ' 1\n",
       "\n",
       "Residual standard error: 7.234 on 502 degrees of freedom\n",
       "Multiple R-squared:  0.297,\tAdjusted R-squared:  0.2928 \n",
       "F-statistic: 70.69 on 3 and 502 DF,  p-value: < 2.2e-16\n"
      ]
     },
     "metadata": {},
     "output_type": "display_data"
    }
   ],
   "source": [
    "lm.nox = lm(crim~poly(nox,3))\n",
    "summary(lm.nox) "
   ]
  },
  {
   "cell_type": "code",
   "execution_count": 30,
   "metadata": {},
   "outputs": [
    {
     "data": {
      "text/plain": [
       "\n",
       "Call:\n",
       "lm(formula = crim ~ poly(rm, 3))\n",
       "\n",
       "Residuals:\n",
       "    Min      1Q  Median      3Q     Max \n",
       "-18.485  -3.468  -2.221  -0.015  87.219 \n",
       "\n",
       "Coefficients:\n",
       "             Estimate Std. Error t value Pr(>|t|)    \n",
       "(Intercept)    3.6135     0.3703   9.758  < 2e-16 ***\n",
       "poly(rm, 3)1 -42.3794     8.3297  -5.088 5.13e-07 ***\n",
       "poly(rm, 3)2  26.5768     8.3297   3.191  0.00151 ** \n",
       "poly(rm, 3)3  -5.5103     8.3297  -0.662  0.50858    \n",
       "---\n",
       "Signif. codes:  0 '***' 0.001 '**' 0.01 '*' 0.05 '.' 0.1 ' ' 1\n",
       "\n",
       "Residual standard error: 8.33 on 502 degrees of freedom\n",
       "Multiple R-squared:  0.06779,\tAdjusted R-squared:  0.06222 \n",
       "F-statistic: 12.17 on 3 and 502 DF,  p-value: 1.067e-07\n"
      ]
     },
     "metadata": {},
     "output_type": "display_data"
    }
   ],
   "source": [
    "lm.rm = lm(crim~poly(rm,3))\n",
    "summary(lm.rm) "
   ]
  },
  {
   "cell_type": "code",
   "execution_count": 31,
   "metadata": {},
   "outputs": [
    {
     "data": {
      "text/plain": [
       "\n",
       "Call:\n",
       "lm(formula = crim ~ poly(age, 3))\n",
       "\n",
       "Residuals:\n",
       "   Min     1Q Median     3Q    Max \n",
       "-9.762 -2.673 -0.516  0.019 82.842 \n",
       "\n",
       "Coefficients:\n",
       "              Estimate Std. Error t value Pr(>|t|)    \n",
       "(Intercept)     3.6135     0.3485  10.368  < 2e-16 ***\n",
       "poly(age, 3)1  68.1820     7.8397   8.697  < 2e-16 ***\n",
       "poly(age, 3)2  37.4845     7.8397   4.781 2.29e-06 ***\n",
       "poly(age, 3)3  21.3532     7.8397   2.724  0.00668 ** \n",
       "---\n",
       "Signif. codes:  0 '***' 0.001 '**' 0.01 '*' 0.05 '.' 0.1 ' ' 1\n",
       "\n",
       "Residual standard error: 7.84 on 502 degrees of freedom\n",
       "Multiple R-squared:  0.1742,\tAdjusted R-squared:  0.1693 \n",
       "F-statistic: 35.31 on 3 and 502 DF,  p-value: < 2.2e-16\n"
      ]
     },
     "metadata": {},
     "output_type": "display_data"
    }
   ],
   "source": [
    "lm.age = lm(crim~poly(age,3))\n",
    "summary(lm.age) "
   ]
  },
  {
   "cell_type": "code",
   "execution_count": 32,
   "metadata": {},
   "outputs": [
    {
     "data": {
      "text/plain": [
       "\n",
       "Call:\n",
       "lm(formula = crim ~ poly(dis, 3))\n",
       "\n",
       "Residuals:\n",
       "    Min      1Q  Median      3Q     Max \n",
       "-10.757  -2.588   0.031   1.267  76.378 \n",
       "\n",
       "Coefficients:\n",
       "              Estimate Std. Error t value Pr(>|t|)    \n",
       "(Intercept)     3.6135     0.3259  11.087  < 2e-16 ***\n",
       "poly(dis, 3)1 -73.3886     7.3315 -10.010  < 2e-16 ***\n",
       "poly(dis, 3)2  56.3730     7.3315   7.689 7.87e-14 ***\n",
       "poly(dis, 3)3 -42.6219     7.3315  -5.814 1.09e-08 ***\n",
       "---\n",
       "Signif. codes:  0 '***' 0.001 '**' 0.01 '*' 0.05 '.' 0.1 ' ' 1\n",
       "\n",
       "Residual standard error: 7.331 on 502 degrees of freedom\n",
       "Multiple R-squared:  0.2778,\tAdjusted R-squared:  0.2735 \n",
       "F-statistic: 64.37 on 3 and 502 DF,  p-value: < 2.2e-16\n"
      ]
     },
     "metadata": {},
     "output_type": "display_data"
    }
   ],
   "source": [
    "lm.dis = lm(crim~poly(dis,3))\n",
    "summary(lm.dis) "
   ]
  },
  {
   "cell_type": "code",
   "execution_count": 33,
   "metadata": {},
   "outputs": [
    {
     "data": {
      "text/plain": [
       "\n",
       "Call:\n",
       "lm(formula = crim ~ poly(rad, 3))\n",
       "\n",
       "Residuals:\n",
       "    Min      1Q  Median      3Q     Max \n",
       "-10.381  -0.412  -0.269   0.179  76.217 \n",
       "\n",
       "Coefficients:\n",
       "              Estimate Std. Error t value Pr(>|t|)    \n",
       "(Intercept)     3.6135     0.2971  12.164  < 2e-16 ***\n",
       "poly(rad, 3)1 120.9074     6.6824  18.093  < 2e-16 ***\n",
       "poly(rad, 3)2  17.4923     6.6824   2.618  0.00912 ** \n",
       "poly(rad, 3)3   4.6985     6.6824   0.703  0.48231    \n",
       "---\n",
       "Signif. codes:  0 '***' 0.001 '**' 0.01 '*' 0.05 '.' 0.1 ' ' 1\n",
       "\n",
       "Residual standard error: 6.682 on 502 degrees of freedom\n",
       "Multiple R-squared:    0.4,\tAdjusted R-squared:  0.3965 \n",
       "F-statistic: 111.6 on 3 and 502 DF,  p-value: < 2.2e-16\n"
      ]
     },
     "metadata": {},
     "output_type": "display_data"
    }
   ],
   "source": [
    "lm.rad = lm(crim~poly(rad,3))\n",
    "summary(lm.rad)"
   ]
  },
  {
   "cell_type": "code",
   "execution_count": 34,
   "metadata": {},
   "outputs": [
    {
     "data": {
      "text/plain": [
       "\n",
       "Call:\n",
       "lm(formula = crim ~ poly(tax, 3))\n",
       "\n",
       "Residuals:\n",
       "    Min      1Q  Median      3Q     Max \n",
       "-13.273  -1.389   0.046   0.536  76.950 \n",
       "\n",
       "Coefficients:\n",
       "              Estimate Std. Error t value Pr(>|t|)    \n",
       "(Intercept)     3.6135     0.3047  11.860  < 2e-16 ***\n",
       "poly(tax, 3)1 112.6458     6.8537  16.436  < 2e-16 ***\n",
       "poly(tax, 3)2  32.0873     6.8537   4.682 3.67e-06 ***\n",
       "poly(tax, 3)3  -7.9968     6.8537  -1.167    0.244    \n",
       "---\n",
       "Signif. codes:  0 '***' 0.001 '**' 0.01 '*' 0.05 '.' 0.1 ' ' 1\n",
       "\n",
       "Residual standard error: 6.854 on 502 degrees of freedom\n",
       "Multiple R-squared:  0.3689,\tAdjusted R-squared:  0.3651 \n",
       "F-statistic:  97.8 on 3 and 502 DF,  p-value: < 2.2e-16\n"
      ]
     },
     "metadata": {},
     "output_type": "display_data"
    }
   ],
   "source": [
    "lm.tax = lm(crim~poly(tax,3))\n",
    "summary(lm.tax) "
   ]
  },
  {
   "cell_type": "code",
   "execution_count": 35,
   "metadata": {},
   "outputs": [
    {
     "data": {
      "text/plain": [
       "\n",
       "Call:\n",
       "lm(formula = crim ~ poly(ptratio, 3))\n",
       "\n",
       "Residuals:\n",
       "   Min     1Q Median     3Q    Max \n",
       "-6.833 -4.146 -1.655  1.408 82.697 \n",
       "\n",
       "Coefficients:\n",
       "                  Estimate Std. Error t value Pr(>|t|)    \n",
       "(Intercept)          3.614      0.361  10.008  < 2e-16 ***\n",
       "poly(ptratio, 3)1   56.045      8.122   6.901 1.57e-11 ***\n",
       "poly(ptratio, 3)2   24.775      8.122   3.050  0.00241 ** \n",
       "poly(ptratio, 3)3  -22.280      8.122  -2.743  0.00630 ** \n",
       "---\n",
       "Signif. codes:  0 '***' 0.001 '**' 0.01 '*' 0.05 '.' 0.1 ' ' 1\n",
       "\n",
       "Residual standard error: 8.122 on 502 degrees of freedom\n",
       "Multiple R-squared:  0.1138,\tAdjusted R-squared:  0.1085 \n",
       "F-statistic: 21.48 on 3 and 502 DF,  p-value: 4.171e-13\n"
      ]
     },
     "metadata": {},
     "output_type": "display_data"
    }
   ],
   "source": [
    "lm.ptratio = lm(crim~poly(ptratio,3))\n",
    "summary(lm.ptratio)"
   ]
  },
  {
   "cell_type": "code",
   "execution_count": 36,
   "metadata": {},
   "outputs": [
    {
     "data": {
      "text/plain": [
       "\n",
       "Call:\n",
       "lm(formula = crim ~ poly(black, 3))\n",
       "\n",
       "Residuals:\n",
       "    Min      1Q  Median      3Q     Max \n",
       "-13.096  -2.343  -2.128  -1.439  86.790 \n",
       "\n",
       "Coefficients:\n",
       "                Estimate Std. Error t value Pr(>|t|)    \n",
       "(Intercept)       3.6135     0.3536  10.218   <2e-16 ***\n",
       "poly(black, 3)1 -74.4312     7.9546  -9.357   <2e-16 ***\n",
       "poly(black, 3)2   5.9264     7.9546   0.745    0.457    \n",
       "poly(black, 3)3  -4.8346     7.9546  -0.608    0.544    \n",
       "---\n",
       "Signif. codes:  0 '***' 0.001 '**' 0.01 '*' 0.05 '.' 0.1 ' ' 1\n",
       "\n",
       "Residual standard error: 7.955 on 502 degrees of freedom\n",
       "Multiple R-squared:  0.1498,\tAdjusted R-squared:  0.1448 \n",
       "F-statistic: 29.49 on 3 and 502 DF,  p-value: < 2.2e-16\n"
      ]
     },
     "metadata": {},
     "output_type": "display_data"
    }
   ],
   "source": [
    "lm.black = lm(crim~poly(black,3))\n",
    "summary(lm.black) "
   ]
  },
  {
   "cell_type": "code",
   "execution_count": 37,
   "metadata": {},
   "outputs": [
    {
     "data": {
      "text/plain": [
       "\n",
       "Call:\n",
       "lm(formula = crim ~ poly(lstat, 3))\n",
       "\n",
       "Residuals:\n",
       "    Min      1Q  Median      3Q     Max \n",
       "-15.234  -2.151  -0.486   0.066  83.353 \n",
       "\n",
       "Coefficients:\n",
       "                Estimate Std. Error t value Pr(>|t|)    \n",
       "(Intercept)       3.6135     0.3392  10.654   <2e-16 ***\n",
       "poly(lstat, 3)1  88.0697     7.6294  11.543   <2e-16 ***\n",
       "poly(lstat, 3)2  15.8882     7.6294   2.082   0.0378 *  \n",
       "poly(lstat, 3)3 -11.5740     7.6294  -1.517   0.1299    \n",
       "---\n",
       "Signif. codes:  0 '***' 0.001 '**' 0.01 '*' 0.05 '.' 0.1 ' ' 1\n",
       "\n",
       "Residual standard error: 7.629 on 502 degrees of freedom\n",
       "Multiple R-squared:  0.2179,\tAdjusted R-squared:  0.2133 \n",
       "F-statistic: 46.63 on 3 and 502 DF,  p-value: < 2.2e-16\n"
      ]
     },
     "metadata": {},
     "output_type": "display_data"
    }
   ],
   "source": [
    "lm.lstat = lm(crim~poly(lstat,3))\n",
    "summary(lm.lstat) "
   ]
  },
  {
   "cell_type": "code",
   "execution_count": 38,
   "metadata": {},
   "outputs": [
    {
     "data": {
      "text/plain": [
       "\n",
       "Call:\n",
       "lm(formula = crim ~ poly(medv, 3))\n",
       "\n",
       "Residuals:\n",
       "    Min      1Q  Median      3Q     Max \n",
       "-24.427  -1.976  -0.437   0.439  73.655 \n",
       "\n",
       "Coefficients:\n",
       "               Estimate Std. Error t value Pr(>|t|)    \n",
       "(Intercept)       3.614      0.292  12.374  < 2e-16 ***\n",
       "poly(medv, 3)1  -75.058      6.569 -11.426  < 2e-16 ***\n",
       "poly(medv, 3)2   88.086      6.569  13.409  < 2e-16 ***\n",
       "poly(medv, 3)3  -48.033      6.569  -7.312 1.05e-12 ***\n",
       "---\n",
       "Signif. codes:  0 '***' 0.001 '**' 0.01 '*' 0.05 '.' 0.1 ' ' 1\n",
       "\n",
       "Residual standard error: 6.569 on 502 degrees of freedom\n",
       "Multiple R-squared:  0.4202,\tAdjusted R-squared:  0.4167 \n",
       "F-statistic: 121.3 on 3 and 502 DF,  p-value: < 2.2e-16\n"
      ]
     },
     "metadata": {},
     "output_type": "display_data"
    }
   ],
   "source": [
    "lm.medv = lm(crim~poly(medv,3))\n",
    "summary(lm.medv) "
   ]
  },
  {
   "cell_type": "markdown",
   "metadata": {},
   "source": [
    "Si hay evidencia de no linealidad para todos los predictores a excepcion de black y chas."
   ]
  }
 ],
 "metadata": {
  "kernelspec": {
   "display_name": "R",
   "language": "R",
   "name": "ir"
  },
  "language_info": {
   "codemirror_mode": "r",
   "file_extension": ".r",
   "mimetype": "text/x-r-source",
   "name": "R",
   "pygments_lexer": "r",
   "version": "3.6.2"
  }
 },
 "nbformat": 4,
 "nbformat_minor": 4
}
